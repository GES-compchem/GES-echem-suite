{
 "cells": [
  {
   "attachments": {},
   "cell_type": "markdown",
   "metadata": {},
   "source": [
    "(CellCycling_AnalyzingExperiment)=\n",
    "# Analyzing complex expriments\n",
    "\n",
    "The `GES-echem-suite` library provides some custom made experiment class explicitly designed to facilitate the analysis of composite experiments. At this time the following experiment types are supported:\n",
    "\n",
    "* Rate analysis: Analysis of more than one cell-cycling experiment carried out at a different value of constant-current\n",
    "\n",
    "## The analysis of charge/dischage rate experiments\n",
    "\n",
    "The `RateExperiment` class can be used to analyze more than one cell-cycling experiment carried out at a different value of constant-current. A `RateExperiment` object can be created in different ways:\n",
    "\n",
    "* Directly constructued by the user, by providing a list of current values and a list of the corresponding `CellCycling` objects\n",
    "* Constructed from a Bilogic Battery module file using the `from_Biologic_battery_module` classmethod.\n",
    "\n",
    "An example of the latter option is provided in what follows:"
   ]
  },
  {
   "cell_type": "code",
   "execution_count": null,
   "metadata": {},
   "outputs": [],
   "source": [
    "from echemsuite.cellcycling.experiments import RateExperiment\n",
    "\n",
    "# Create a RateExperiment from a Biologic Battery Module file\n",
    "experiment = RateExperiment().from_Biologic_battery_module(\"./example_Biologic_BatteryModule/example_BattModule.mpt\")\n",
    "print(experiment)"
   ]
  },
  {
   "attachments": {},
   "cell_type": "markdown",
   "metadata": {},
   "source": [
    "Now that the `RateExperiment` object representing the experiment has been obtained all the experimental data and derived quantities can be accessed using the built-in class methods and properties. The following script shows how the data can be accessed and graphically represented:"
   ]
  },
  {
   "cell_type": "code",
   "execution_count": null,
   "metadata": {},
   "outputs": [],
   "source": [
    "import matplotlib.pyplot as plt\n",
    "from echemsuite.cellcycling.experiments import RateExperiment\n",
    "\n",
    "# Create a RateExperiment from a Biologic Battery Module file\n",
    "experiment = RateExperiment.from_Biologic_battery_module(\"./example_Biologic_BatteryModule/example_BattModule.mpt\")\n",
    "\n",
    "# Select the values to plot in the graph\n",
    "N = experiment.numbers\n",
    "AP = experiment.average_power\n",
    "CR = experiment.capacity_retention\n",
    "\n",
    "# Plotting the data \n",
    "plt.rcParams.update({'font.size': 18}) \n",
    "fig, ax1 = plt.subplots(figsize=(8, 6)) \n",
    "\n",
    "color_ax1 = \"blue\" \n",
    "ax1.scatter(N, AP, c=color_ax1, marker=\"s\", s=45, zorder=3) \n",
    "ax1.tick_params(axis=\"y\", labelcolor=color_ax1) \n",
    "ax1.set_xlabel(\"Cycle number\", size=20) \n",
    "ax1.set_ylabel(\"■ Average power (W)\", c=color_ax1, size=20)\n",
    "ax1.set_ylim((-2, 12))\n",
    "ax1.grid(which=\"major\", c=\"#DDDDDD\") \n",
    "ax1.grid(which=\"minor\", c=\"#EEEEEE\") \n",
    "\n",
    "ax2 = ax1.twinx() \n",
    "color_ax2 = \"red\" \n",
    "ax2.scatter(N, CR, c=color_ax2, marker=\"o\", s=45, zorder=1) \n",
    "ax2.tick_params(axis=\"y\", labelcolor=color_ax2)\n",
    "ax2.set_ylim((-45, 105))\n",
    "ax2.set_ylabel(\"● Capacity retention (%)\", c=color_ax2, size=20)  \n",
    "\n",
    "plt.tight_layout()\n",
    "plt.show() "
   ]
  }
 ],
 "metadata": {
  "kernelspec": {
   "display_name": "GES-echem",
   "language": "python",
   "name": "python3"
  },
  "language_info": {
   "codemirror_mode": {
    "name": "ipython",
    "version": 3
   },
   "file_extension": ".py",
   "mimetype": "text/x-python",
   "name": "python",
   "nbconvert_exporter": "python",
   "pygments_lexer": "ipython3",
   "version": "3.10.4"
  },
  "orig_nbformat": 4
 },
 "nbformat": 4,
 "nbformat_minor": 2
}
