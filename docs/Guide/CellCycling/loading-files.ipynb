{
 "cells": [
  {
   "cell_type": "markdown",
   "metadata": {},
   "source": [
    "(CellCycling_Loading)=\n",
    "# Basic file loading operations\n",
    "\n",
    "The core of all the data-loading operations is the `FileManager` class defined in the `read_input` submodule. The `FileManager` class can load both `.DTA` and `.mpt` files generated respectively by the GAMRY and BIOLOGIC potentiostats. The class provides a simple interface to automatically parse all the loaded data and hold them in memory in the form of bytestreams. To show how this object can be operated let us consider the case of a `.mpt` file that, for the purposes of this example, is provided in the documentation folder. Let us look at the content of such file:"
   ]
  },
  {
   "cell_type": "code",
   "execution_count": null,
   "metadata": {},
   "outputs": [],
   "source": [
    "with open(\"./example.mpt\", 'r') as file:\n",
    "    for line in file:\n",
    "        print(line.rstrip('\\n'))"
   ]
  },
  {
   "cell_type": "markdown",
   "metadata": {},
   "source": [
    "As it can be seen, the provided file describes: two full charge/discharge cycles, each of wich composed by two halfcycle, each of which composed by 3 time-steps.\n",
    "\n",
    "To load this `.mpt` file using the `FileManager` class, the following procedure can be used:"
   ]
  },
  {
   "cell_type": "code",
   "execution_count": null,
   "metadata": {},
   "outputs": [],
   "source": [
    "# Loading the FileManager class from the cellcycling.read_input module\n",
    "from echemsuite.cellcycling.read_input import FileManager\n",
    "\n",
    "# Creating an instance of the FileManager class\n",
    "manager = FileManager(verbose=False)\n",
    "\n",
    "# Loading all the .mpt file in the current folder\n",
    "manager.fetch_from_folder(\"./\", extension=\".mpt\")   "
   ]
  },
  {
   "cell_type": "markdown",
   "metadata": {},
   "source": [
    "After the call to the `fetch_from_folder` function, all the data has been loaded in the class and parsed in single independent half-cycles. Considering that we have loaded a single `.mpt` file, the half-cycle ordering is unambiguos and the parsed data can immediately be converted into the corresponding `Cycle` and `CellCycling` objects by using the built-in `get_cycles` and `get_cellcycling` class methods:"
   ]
  },
  {
   "cell_type": "code",
   "execution_count": null,
   "metadata": {},
   "outputs": [],
   "source": [
    "# Obtain the cellcycling object from the manager\n",
    "cellcycling = manager.get_cellcycling()\n",
    "print(cellcycling)\n",
    "\n",
    "# Obtain the list of cycle objects from the manager\n",
    "cycle_list = manager.get_cycles()\n",
    "print(cycle_list[0])"
   ]
  },
  {
   "cell_type": "markdown",
   "metadata": {},
   "source": [
    "If the cell-cycling data is instead loaded from a set of `.DTA` files, either complete or partial, the ordering of the half-cycles is not strictly encoded by the data available to the `FileManager` and, as such, user intervention may be needed. The `FileManager` will try to automatically generate a suggested ordering of the half-cycle files based on their timestamp and type. The suggested ordering can be obtained by calling the memeber function `suggest_ordering` that will return a list of lists containing the name of the loaded files. Each list-type entry represents a half-cycle level; lists with more than one element will represent partial half-cycle files to be merged. As an example consider the followiing list:\n",
    "\n",
    "```\n",
    "[[\"Charge_1.DTA\"], [\"Charge_2.DTA\", \"Charge_2b.DTA\"], [\"Charge_3.DTA\"]]\n",
    "```\n",
    "\n",
    "this list represents an ordering that will generate 3 half-cycles in which the middle one will be generated from the merging of `Charge_2.DTA` and `Charge_2b.DTA`. The user can either accept the automatically generated ordering or can manually specify its own. The selected ordering can then be applyed by passing it explicitly to the `get_cycles` and `get_cellcycling` functions as the keyworded argument `custom_order`. "
   ]
  },
  {
   "cell_type": "markdown",
   "metadata": {},
   "source": [
    "## Loading data from a BytesIO bytestream\n",
    "\n",
    "The `read_input` sub-module has been developed to be able to also operate in a web-application environment minimizing the operations done on local copies of the loaded files. For this reason, all the loaded files are immediately converted in binary bytestreams and saved in a `bytestrem` dictionary saved in memory. This behavior opens, as a direct consequence, an alternative way to define a parametrized `FileManager` object by direct specification, thanks to the provided setter, of the `bytestream` buffer.\n",
    "\n",
    "To show how this can be done let us, first of all, define a `BytesIO` version of the `.mpt` file considered before. This can easily be done with few lines of code:"
   ]
  },
  {
   "cell_type": "code",
   "execution_count": null,
   "metadata": {},
   "outputs": [],
   "source": [
    "# Load the BytesIO stream object from the io module\n",
    "from io import BytesIO\n",
    "\n",
    "# Open the file and load it as a bytes stream\n",
    "my_bytestream = None\n",
    "with open(\"./example.mpt\", 'rb') as binary_file:\n",
    "    my_bytestream = BytesIO(binary_file.read())"
   ]
  },
  {
   "cell_type": "markdown",
   "metadata": {},
   "source": [
    "The loaded stream can now be used to directly initialize the `FileManager` class according to:"
   ]
  },
  {
   "cell_type": "code",
   "execution_count": null,
   "metadata": {},
   "outputs": [],
   "source": [
    "from echemsuite.cellcycling.read_input import Instrument\n",
    "\n",
    "# Create a FileManager instance\n",
    "manager = FileManager()\n",
    "\n",
    "# Set the bytestream dictionary using the loaded data\n",
    "manager.bytestreams = {\"example.mpt\" : my_bytestream}\n",
    "manager._instrument = Instrument.BIOLOGIC\n",
    "\n",
    "# Call the parse function\n",
    "manager.parse()"
   ]
  },
  {
   "cell_type": "markdown",
   "metadata": {},
   "source": [
    "Please observe how the `FileManager` class has no access to the file extension (the label provided here as a dictionary key was used only for clarity) and, as a direct consequence, does not know the instrument type. This requires the user to manually set the `_instrument` property. Furthermore, unlike the previous example in which the call to the `parse` function was avoided thanks to the `autoparse` mode of the `fetch_from_folder` function, this time the call to the `parse` function must be made explicitly. "
   ]
  }
 ],
 "metadata": {
  "kernelspec": {
   "display_name": "Python 3.9.12 ('dev')",
   "language": "python",
   "name": "python3"
  },
  "language_info": {
   "codemirror_mode": {
    "name": "ipython",
    "version": 3
   },
   "file_extension": ".py",
   "mimetype": "text/x-python",
   "name": "python",
   "nbconvert_exporter": "python",
   "pygments_lexer": "ipython3",
   "version": "3.9.12"
  },
  "orig_nbformat": 4,
  "vscode": {
   "interpreter": {
    "hash": "30d5e6663e5f327f8a0ee9b9e3b8d26410b1633c3e99da7cd29585f36ae4f245"
   }
  }
 },
 "nbformat": 4,
 "nbformat_minor": 2
}
