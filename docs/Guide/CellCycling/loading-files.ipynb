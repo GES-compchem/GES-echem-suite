{
 "cells": [
  {
   "cell_type": "markdown",
   "metadata": {},
   "source": [
    "(CellCycling_Loading)=\n",
    "# Basic file loading operations\n",
    "\n",
    "The core of all the data-loading operations is the `FileManager` class defined in the `read_input` submodule. The `FileManager` class can load both `.DTA` and `.mpt` files generated respectively by the GAMRY and BIOLOGIC potentiostats. The class provides a simple interface to automatically parse all the loaded data holding them in memory in the form of bytestreams. To show how this object can be operated let us consider the case of a `.mpt` file that, for the purposes of this example, is provided in the documentation folder. Let us look at the content of such file:"
   ]
  },
  {
   "cell_type": "code",
   "execution_count": 1,
   "metadata": {},
   "outputs": [
    {
     "name": "stdout",
     "output_type": "stream",
     "text": [
      "...\n",
      "Acquisition started on : 25/12/2022 13:00:00\n",
      "...\n",
      "Number of loops : 2\n",
      "Loop 0 from point number 0 to 5\n",
      "Loop 1 from point number 6 to 11\n",
      "\n",
      "mode\tox/red\terror\tcontrol changes\ttime/s\tcontrol/V/mA\tEwe/V\tI/mA\tdq/mA.h\t(Q-Qo)/mA.h\tQ charge/discharge/mA.h\tEce/V\tP/W\tQ discharge/mA.h\tQ charge/mA.h\tCapacity/mA.h\tcontrol/V\tcontrol/mA\tEwe-Ece/V\t\n",
      "1\t1\t0\t1\t1,000000000000000E+002\t8,0000000E+002\t1,1000000E+000\t8,0000000E+002\t4,000000000000000E+000\t1,100000000000000E+003\t1,100000000000000E+003\t3,0000000E-006\t1,0000000E+000\t0,000000000000000E+000\t1,000000000000000E+003\t1,000000000000000E+003\t0,0000000E+000\t8,0000000E+002\t1,0000000E+000\n",
      "1\t1\t0\t1\t1,010000000000000E+002\t8,0000000E+002\t1,2000000E+000\t8,0000000E+002\t4,000000000000000E+000\t1,100000000000000E+003\t1,100000000000000E+003\t3,0000000E-006\t1,0000000E+000\t0,000000000000000E+000\t1,000000000000000E+003\t1,000000000000000E+003\t0,0000000E+000\t8,0000000E+002\t1,0000000E+000\n",
      "1\t1\t0\t1\t1,020000000000000E+002\t8,0000000E+002\t1,2500000E+000\t8,0000000E+002\t4,000000000000000E+000\t1,100000000000000E+003\t1,100000000000000E+003\t3,0000000E-006\t1,0000000E+000\t0,000000000000000E+000\t1,000000000000000E+003\t1,000000000000000E+003\t0,0000000E+000\t8,0000000E+002\t1,0000000E+000\n",
      "1\t0\t0\t0\t1,030000000000000E+002\t-8,0000000E+002\t9,0000000E-001\t-8,0000000E+002\t-4,000000000000000E-005\t1,100000000000000E+003\t-4,000000000000000E-005\t-8,0000000E-004\t-4,0000000E-001\t5,000000000000000E-005\t0,000000000000000E+000\t5,000000000000000E-005\t0,0000000E+000\t-8,0000000E+002\t6,0000000E-001\n",
      "1\t0\t0\t0\t1,040000000000000E+002\t-8,0000000E+002\t8,5000000E-001\t-8,0000000E+002\t-4,000000000000000E+000\t1,100000000000000E+003\t-4,000000000000000E+000\t-8,0000000E-005\t-4,0000000E-001\t5,000000000000000E+000\t0,000000000000000E+000\t5,000000000000000E+000\t0,0000000E+000\t-8,0000000E+002\t6,0000000E-001\n",
      "1\t0\t0\t0\t1,050000000000000E+002\t-8,0000000E+002\t8,2000000E-001\t-8,0000000E+002\t-4,000000000000000E+000\t1,100000000000000E+003\t-4,000000000000000E+000\t-8,0000000E-004\t-4,0000000E-001\t5,000000000000000E+000\t0,000000000000000E+000\t5,000000000000000E+000\t0,0000000E+000\t-8,0000000E+002\t6,0000000E-001\n",
      "1\t1\t0\t1\t1,060000000000000E+002\t8,0000000E+002\t1,0000000E+000\t8,0000000E+002\t4,000000000000000E+000\t1,100000000000000E+003\t1,100000000000000E+003\t3,0000000E-006\t1,0000000E+000\t0,000000000000000E+000\t1,000000000000000E+003\t1,000000000000000E+003\t0,0000000E+000\t8,0000000E+002\t1,0000000E+000\n",
      "1\t1\t0\t1\t1,070000000000000E+002\t8,0000000E+002\t1,1000000E+000\t8,0000000E+002\t4,000000000000000E+000\t1,100000000000000E+003\t1,100000000000000E+003\t3,0000000E-006\t1,0000000E+000\t0,000000000000000E+000\t1,000000000000000E+003\t1,000000000000000E+003\t0,0000000E+000\t8,0000000E+002\t1,0000000E+000\n",
      "1\t1\t0\t1\t1,080000000000000E+002\t8,0000000E+002\t1,2000000E+000\t8,0000000E+002\t4,000000000000000E+000\t1,100000000000000E+003\t1,100000000000000E+003\t3,0000000E-006\t1,0000000E+000\t0,000000000000000E+000\t1,000000000000000E+003\t1,000000000000000E+003\t0,0000000E+000\t8,0000000E+002\t1,0000000E+000\n",
      "1\t0\t0\t0\t1,090000000000000E+002\t-8,0000000E+002\t8,8000000E-001\t-8,0000000E+002\t-4,000000000000000E-005\t1,100000000000000E+003\t-4,000000000000000E-005\t-8,0000000E-004\t-4,0000000E-001\t5,000000000000000E-005\t0,000000000000000E+000\t5,000000000000000E-005\t0,0000000E+000\t-8,0000000E+002\t6,0000000E-001\n",
      "1\t0\t0\t0\t1,100000000000000E+002\t-8,0000000E+002\t8,2000000E-001\t-8,0000000E+002\t-4,000000000000000E+000\t1,100000000000000E+003\t-4,000000000000000E+000\t-8,0000000E-005\t-4,0000000E-001\t5,000000000000000E+000\t0,000000000000000E+000\t5,000000000000000E+000\t0,0000000E+000\t-8,0000000E+002\t6,0000000E-001\n",
      "1\t0\t0\t0\t1,110000000000000E+002\t-8,0000000E+002\t7,5000000E-001\t-8,0000000E+002\t-4,000000000000000E+000\t1,100000000000000E+003\t-4,000000000000000E+000\t-8,0000000E-004\t-4,0000000E-001\t5,000000000000000E+000\t0,000000000000000E+000\t5,000000000000000E+000\t0,0000000E+000\t-8,0000000E+002\t6,0000000E-001\n"
     ]
    }
   ],
   "source": [
    "with open(\"./example.mpt\", 'r') as file:\n",
    "    for line in file:\n",
    "        print(line.rstrip('\\n'))"
   ]
  },
  {
   "cell_type": "markdown",
   "metadata": {},
   "source": [
    "As can be seen the provided file describes two full charge/discharge cycles each of wich composed by two halfcycle composed by 3 time-steps each.\n",
    "\n",
    "To load this `.mpt` file using the `FileManager` class, the following procedure can be used:"
   ]
  },
  {
   "cell_type": "code",
   "execution_count": 2,
   "metadata": {},
   "outputs": [],
   "source": [
    "# Loading the FileManager class from the cellcycling.read_input module\n",
    "from echemsuite.cellcycling.read_input import FileManager\n",
    "\n",
    "# Creating an instance of the FileManager class\n",
    "manager = FileManager(verbose=False)\n",
    "\n",
    "# Loading all the .mpt file in the current folder\n",
    "manager.fetch_from_folder(\"./\", extension=\".mpt\")   "
   ]
  },
  {
   "cell_type": "markdown",
   "metadata": {},
   "source": [
    "After the call to the `fetch_from_folder` function, all the data has been loaded in the class and parsed in single independent half-cycles.Considering that we have loaded a single `.mpt` file, the half-cycle ordering is not ambiguos and the parsed data can immediately be converted in the corresponding `Cycle` and `CellCycling` objects by using the built in `get_cycles` and `get_cellcycling` class methods according to:"
   ]
  },
  {
   "cell_type": "code",
   "execution_count": 3,
   "metadata": {},
   "outputs": [
    {
     "name": "stdout",
     "output_type": "stream",
     "text": [
      "<echemsuite.cellcycling.cycles.CellCycling object at 0x7f4f033373d0>\n",
      "<echemsuite.cellcycling.cycles.Cycle object at 0x7f4f033376d0>\n"
     ]
    }
   ],
   "source": [
    "# Obtain the cellcycling object from the manager\n",
    "cellcycling = manager.get_cellcycling()\n",
    "print(cellcycling)\n",
    "\n",
    "# Obtain the list of cycle objects from the manager\n",
    "cycle_list = manager.get_cycles()\n",
    "print(cycle_list[0])"
   ]
  },
  {
   "cell_type": "markdown",
   "metadata": {},
   "source": [
    "If the cell-cycling data is instead loaded from a set of `.DTA` files, either complete or partial, the ordering of the half-cycles is not strictly encoded by the data available to the `FileManager` and, as such, user intervention may be needed. The `FileManager` will try to automatically generate a suggested ordering of the half-cycle files based on their timestamp and type. The suggested ordering can be obtained by calling the memeber function `suggest_ordering` that will return a list of lists containing the name of the loaded files. Each list-type entry represents an half-cycle level and list with more than one element will represent patial half-cycle files to be merged. As an example consider the followiing list:\n",
    "\n",
    "```\n",
    "[[\"Charge_1.DTA\"], [\"Charge_2.DTA\", \"Charge_2b.DTA\"], [\"Charge_3.DTA\"]]\n",
    "```\n",
    "\n",
    "this list represents an ordering that will generate 3 half-cycles in which the middle one will be generated from the merging of `Charge_2.DTA` and `Charge_2b.DTA`. The user can either accept the automatically generated ordering or can manually specify its own. The selected ordering can then be applyed by passing it explicitly to the `get_cycles` and `get_cellcycling` functions as the keyworded argument `custom_order`. "
   ]
  },
  {
   "cell_type": "markdown",
   "metadata": {},
   "source": [
    "## Loading data from a BytesIO bytestream\n",
    "\n",
    "The `read_input` sub-module has been developed to be able to also operate in a web-application environment minimizing the operations done on local copies of the loaded files. For this reason, all the loaded files are immediately converted in binary bytestreams and saved in a `bytestrem` dictionary saved in memory. This behavior opens, as a direct consequence, an alternative way to define a parametrized `FileManager` object by direct specification, thanks to the provided setter, of the `bytestream` buffer.\n",
    "\n",
    "To show how this can be done let us, first of all, define a `BytesIO` version of the `.mpt` file considered before. This can easily be done with few lines of code:"
   ]
  },
  {
   "cell_type": "code",
   "execution_count": 4,
   "metadata": {},
   "outputs": [],
   "source": [
    "# Load the BytesIO stream object from the io module\n",
    "from io import BytesIO\n",
    "\n",
    "# Open the file and load it as a bytes stream\n",
    "my_bytestream = None\n",
    "with open(\"./example.mpt\", 'rb') as binary_file:\n",
    "    my_bytestream = BytesIO(binary_file.read())"
   ]
  },
  {
   "cell_type": "markdown",
   "metadata": {},
   "source": [
    "The loaded stream can now be used to directly initialize the `FileManager` class according to:"
   ]
  },
  {
   "cell_type": "code",
   "execution_count": 6,
   "metadata": {},
   "outputs": [],
   "source": [
    "from echemsuite.cellcycling.read_input import Instrument\n",
    "\n",
    "# Create a FileManager instance\n",
    "manager = FileManager()\n",
    "\n",
    "# Set the bytestream dictionary using the loaded data\n",
    "manager.bytestreams = {\"example.mpt\" : my_bytestream}\n",
    "manager._instrument = Instrument.BIOLOGIC\n",
    "\n",
    "# Call the parse function\n",
    "manager.parse()"
   ]
  },
  {
   "cell_type": "markdown",
   "metadata": {},
   "source": [
    "Please observe how the `FileManager` class has no access to the file extension (the label provided here as a dictionary key was used only for clarity) and, as a direct consequence, does not know the instrument type. This requires the user to manually set the `_instrument` property. Furthermore, unlike the previous example in which the call to the `parse` function was avoided thanks to the `autoparse` mode of the `fetch_from_folder` function, this time the call to the `parse` function must be made explicitly. "
   ]
  }
 ],
 "metadata": {
  "kernelspec": {
   "display_name": "Python 3.10.4 ('GES-echem')",
   "language": "python",
   "name": "python3"
  },
  "language_info": {
   "codemirror_mode": {
    "name": "ipython",
    "version": 3
   },
   "file_extension": ".py",
   "mimetype": "text/x-python",
   "name": "python",
   "nbconvert_exporter": "python",
   "pygments_lexer": "ipython3",
   "version": "3.10.4"
  },
  "orig_nbformat": 4,
  "vscode": {
   "interpreter": {
    "hash": "464b0b5cca04f752b917318835e85d5c535441c67c8da54eaea07812a27366d6"
   }
  }
 },
 "nbformat": 4,
 "nbformat_minor": 2
}
