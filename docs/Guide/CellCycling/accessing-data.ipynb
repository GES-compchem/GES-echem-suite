{
 "cells": [
  {
   "cell_type": "markdown",
   "metadata": {},
   "source": [
    "(CellCycling_AccessingData)=\n",
    "# Accessing and computing properities\n",
    "\n",
    "Once a `FileManager` instance has been created and the wanted files have been parsed, all the experimental data can be extracted by directly invoking the generation of a `CellCycling` object by means of the `get_cellcycling` function. An exaple of a full workflows in reported in what follows:"
   ]
  },
  {
   "cell_type": "code",
   "execution_count": null,
   "metadata": {},
   "outputs": [],
   "source": [
    "from echemsuite.cellcycling.read_input import FileManager\n",
    "from echemsuite.cellcycling.cycles import CellCycling\n",
    "\n",
    "# Create a FileManager object and load/parse the example `.mpt` file\n",
    "manager = FileManager()\n",
    "manager.fetch_from_folder(\"./\", extension=\".mpt\")\n",
    "\n",
    "# Get the cellcycling object from the FileManager\n",
    "cellcycling = manager.get_cellcycling()\n",
    "\n",
    "print(cellcycling)"
   ]
  },
  {
   "cell_type": "markdown",
   "metadata": {},
   "source": [
    "Now that the `CellCycling` object representing the cycling experiment has been obtained all the experimental data and derived quantities can be accessed using the built-in class methods.\n",
    "\n",
    ":::{admonition} The clean option\n",
    "Please notice that in the previously examined workflow all the cycle have been loaded and marked as visible. Sometimes, however, the user may want to hide some of the cycles based on the assumption that only full charge/discharge cycles with efficiencies lower than 100% have physical meaning. This can be done automatically setting to `True` the `clean` flag in the `get_cellcycling` function. This will set the non-physical cycles to the hidden state.\n",
    "::: "
   ]
  },
  {
   "cell_type": "markdown",
   "metadata": {},
   "source": [
    "## Hiding/Unhiding cycles\n",
    "\n",
    "Each cycle in the `CellCycling` object can be at any time set/unset to/from the hidden state using the `hide`/`unhide` functions. When a cycle is set to hidden it will be automatically ignored from all the analysis. Both the `hide`/`unhide` functions takes as arguments a list of integers containing the index of the target cycles. An example snippet of code is available in what follows:"
   ]
  },
  {
   "cell_type": "code",
   "execution_count": null,
   "metadata": {},
   "outputs": [],
   "source": [
    "# Hide the second cycle\n",
    "print(\"Hiding cycle 1\")\n",
    "cellcycling.hide([1])\n",
    "\n",
    "# Print a list containing the hidden state of each cycle\n",
    "for _cycle in cellcycling._cycles:\n",
    "    status = \"Hidden\" if _cycle._hidden else \"Visible\"\n",
    "    print(f\"Cycle number {_cycle.number} is currently {status}\")\n",
    "\n",
    "# Unhide the second cycle\n",
    "print(\"\\nUnhiding cycle 1\")\n",
    "cellcycling.unhide([1])\n",
    "\n",
    "# Print a list containing the hidden state of each cycle\n",
    "for _cycle in cellcycling._cycles:\n",
    "    status = \"Hidden\" if _cycle._hidden else \"Visible\"\n",
    "    print(f\"Cycle number {_cycle.number} is currently {status}\")"
   ]
  },
  {
   "cell_type": "markdown",
   "metadata": {},
   "source": [
    "## Accessing a `Cycle` and its `HalfCycles`\n",
    "\n",
    "As the name implies, the `CellCycling` object represents a collection of charge/discharge cycles. Each cycle is defined by a `Cycle` object that can be accessed either directly by index, leaving to the user the task of verifying its hidden status, or by using the built in `CellCycling` class iterator that will return sequentially all the non-hidden cycles."
   ]
  },
  {
   "cell_type": "code",
   "execution_count": null,
   "metadata": {},
   "outputs": [],
   "source": [
    "# Accessing the second cycle by index\n",
    "print(f\"Getting cycle at index 1: {cellcycling[1]}\\n\")\n",
    "\n",
    "# Accessing the cycles by iterator\n",
    "print(\"Accessing the cycles by iterator\")\n",
    "for cycle in cellcycling:\n",
    "    print(cycle)\n",
    "print(\"\")\n",
    "\n",
    "# Hiding the second cycle\n",
    "cellcycling.hide([1])\n",
    "\n",
    "# Accessing the second cycle by index (will print an error and return None)\n",
    "print(f\"Getting cycle at index 1: {cellcycling[1]}\\n\")\n",
    "\n",
    "# Accessing the cycles by iterator\n",
    "print(\"Accessing the cycles by iterator\")\n",
    "for cycle in cellcycling:\n",
    "    print(cycle)\n",
    "\n",
    "# Un-hiding the second cycle\n",
    "cellcycling.unhide([1])"
   ]
  },
  {
   "cell_type": "markdown",
   "metadata": {},
   "source": [
    "Once a `Cycle` object has been obtained from the `CellCycling` container the charge and discharge `HalfCycles` can be accessed directly according to the syntax:"
   ]
  },
  {
   "cell_type": "code",
   "execution_count": null,
   "metadata": {},
   "outputs": [],
   "source": [
    "first_cycle = cellcycling[0]\n",
    "\n",
    "print(first_cycle.charge)\n",
    "print(first_cycle.discharge)"
   ]
  },
  {
   "cell_type": "markdown",
   "metadata": {},
   "source": [
    "## The `HalfCycle` properties\n",
    "\n",
    "The `HalfCycle` object represents the base-building block of the `cellcycling.cycles` sub-module and, as discussed in more detail in the [API reference](API-cellcycling-cycles), it holds all the experimental data of a charge/discharge process namely:\n",
    "\n",
    "* `time` (`pandas.core.series.Series`) time steps in seconds at which the experimental data have been collected\n",
    "* `voltage` (`pandas.core.series.Series`) voltage in V recorded at each time step\n",
    "* `current` (`pandas.core.series.Series`) currents in A recorded at each time step\n",
    "* `power` (`pandas.core.series.Series`) instantaneous power in W computed at each time step\n",
    "* `energy` (`pandas.core.series.Series`) instantaneous energy in mWh computed at each time step\n",
    "* `Q` (`pandas.core.series.Series`) cumulative charge in mAh computed at each time step\n",
    "* `capacity` (`float`) total capacity in mAh used in the halfcyle\n",
    "* `total_energy` (`float`) total energy in mWh generated/dissipated in the halfcyle\n",
    "\n",
    "All the properties can be accessed with the provided getter function. An example in which the recorded voltage values for each halfcycle is plotted against the time, is provided in what follows:"
   ]
  },
  {
   "cell_type": "code",
   "execution_count": null,
   "metadata": {},
   "outputs": [],
   "source": [
    "import matplotlib.pyplot as plt\n",
    "\n",
    "fig, (ax1, ax2) = plt.subplots(nrows=2, figsize=(10, 8), dpi=400)\n",
    "\n",
    "for cycle in cellcycling:\n",
    "    charge = cycle.charge\n",
    "    ax1.plot(charge.time, charge.voltage, label=f\"Cycle {cycle.number}\", marker=\"x\")\n",
    "\n",
    "ax1.set_title(\"Charge\")\n",
    "ax1.set_xlabel(\"Time (s)\")\n",
    "ax1.set_ylabel(\"Voltage (V)\")\n",
    "ax1.grid(which=\"major\", c=\"#DDDDDD\")\n",
    "ax1.legend()\n",
    "\n",
    "for cycle in cellcycling:\n",
    "    discharge = cycle.discharge\n",
    "    ax2.plot(discharge.time, discharge.voltage, label=f\"Cycle {cycle.number}\", marker=\"x\")\n",
    "\n",
    "ax2.set_title(\"Disharge\")\n",
    "ax2.set_xlabel(\"Time (s)\")\n",
    "ax2.set_ylabel(\"Voltage (V)\")\n",
    "ax2.grid(which=\"major\", c=\"#DDDDDD\")\n",
    "ax2.legend()\n",
    "\n",
    "plt.tight_layout()\n",
    "plt.show()\n"
   ]
  },
  {
   "cell_type": "markdown",
   "metadata": {},
   "source": [
    "## The `Cycle` properties\n",
    "\n",
    "The `Cycle` object wraps the charge and discharge `HalfCycles` exposing, as a unified time-series, all the experimental data previously discussed for the `HalfCycle` object. As such the following properties are available:\n",
    "\n",
    "* `time` (`pandas.core.series.Series`) time steps in seconds at which the experimental data have been collected\n",
    "* `voltage` (`pandas.core.series.Series`) voltage in V recorded at each time step\n",
    "* `current` (`pandas.core.series.Series`) currents in A recorded at each time step\n",
    "* `power` (`pandas.core.series.Series`) instantaneous power in W computed at each time step\n",
    "* `energy` (`pandas.core.series.Series`) instantaneous energy in mWh computed at each time step\n",
    "* `Q` (`pandas.core.series.Series`) cumulative charge in mAh computed at each time step\n",
    "\n",
    "The `Cycle` object also exposes new properties to the user such as the `coulomb_efficiency`, the `energy_efficiency` and the `voltage_efficiency` that can be easily obtained according to:"
   ]
  },
  {
   "cell_type": "code",
   "execution_count": null,
   "metadata": {},
   "outputs": [],
   "source": [
    "for cycle in cellcycling:\n",
    "    print(f\"Cycle: {cycle.number}\")\n",
    "    print(\"    - Coulomb efficiency: {:.2f}%\".format(cycle.coulomb_efficiency))\n",
    "    print(\"    - Energy efficiency: {:.2f}%\".format(cycle.energy_efficiency))\n",
    "    print(\"    - Voltage efficiency:  {:.2f}%\".format(cycle.voltage_efficiency))\n",
    "    print()"
   ]
  },
  {
   "cell_type": "markdown",
   "metadata": {},
   "source": [
    "## The `CellCycling` properties\n",
    "\n",
    "The `CellCycling` class exposes, as lists, all the properties related to its `Cycles` objects such as:\n",
    "\n",
    "* `coulomb_efficiencies` (`List[float]`) list of the `coulomb_efficiency` associated to each cycle \n",
    "* `energy_efficiencies` (`List[float]`) list of the `energy_efficiency` associated to each cycle\n",
    "* `voltage_efficiencies` (`List[float]`) list of the `voltage_efficiency` associated to each cycle \n",
    "\n",
    "The `CellCycling` class also allows the user to evaluate the capacity retention of the cell in respect to a selected `reference` cycle, to fit it using a linear regression and to compute the `capacity_fade` rate. Given the fitting data, the user can also predict, using the `predict_retention` function, the capacity retention expected at a given cycle number and estimate, by calling the `retention_threshold` function, the cycle number at which the degradation in capacity retention will exceed a given threshold."
   ]
  }
 ],
 "metadata": {
  "kernelspec": {
   "display_name": "Python 3.10.4 ('GES-echem')",
   "language": "python",
   "name": "python3"
  },
  "language_info": {
   "codemirror_mode": {
    "name": "ipython",
    "version": 3
   },
   "file_extension": ".py",
   "mimetype": "text/x-python",
   "name": "python",
   "nbconvert_exporter": "python",
   "pygments_lexer": "ipython3",
   "version": "3.10.4"
  },
  "orig_nbformat": 4,
  "vscode": {
   "interpreter": {
    "hash": "464b0b5cca04f752b917318835e85d5c535441c67c8da54eaea07812a27366d6"
   }
  }
 },
 "nbformat": 4,
 "nbformat_minor": 2
}
