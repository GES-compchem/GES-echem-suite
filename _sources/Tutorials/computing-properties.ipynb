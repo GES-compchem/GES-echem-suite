{
 "cells": [
  {
   "cell_type": "markdown",
   "metadata": {},
   "source": [
    "(ComputingProperties)=\n",
    "# Computing properities\n",
    "\n",
    "The `echemsuite.cellcycling.cycles` module represent the core of the `cellcycling` module.\n",
    "Three main class-type objects are defined in it:\n",
    "\n",
    "* The `HalfCycle` class that holds the data series collected during a single charge/dischage process\n",
    "* The `Cycle` class that holds a charge and a discharge halfcycles\n",
    "* The `CellCycling` class that holds a list of `Cycle` object recorded during a cell cycling experiment"
   ]
  }
 ],
 "metadata": {
  "kernelspec": {
   "display_name": "Python 3.10.4 ('GES-echem')",
   "language": "python",
   "name": "python3"
  },
  "language_info": {
   "name": "python",
   "version": "3.10.4"
  },
  "orig_nbformat": 4,
  "vscode": {
   "interpreter": {
    "hash": "464b0b5cca04f752b917318835e85d5c535441c67c8da54eaea07812a27366d6"
   }
  }
 },
 "nbformat": 4,
 "nbformat_minor": 2
}
